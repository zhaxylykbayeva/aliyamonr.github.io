{
 "cells": [
  {
   "cell_type": "markdown",
   "metadata": {},
   "source": [
    "# Spotify project"
   ]
  },
  {
   "cell_type": "markdown",
   "metadata": {},
   "source": [
    "## Dataset Description\n",
    "\n",
    "The dataset I will be using for this analysis is from Kaggle and can be accessed here: \n",
    "https://www.kaggle.com/zaheenhamidani/ultimate-spotify-tracks-db\n",
    "\n",
    "\n",
    "Most of the columns are self-explanatory, and represent a feature of a song (e.g. genre, name, loudness, acousticness, duration, etc.) Popularity column is an integer number between 0 and 100.\n",
    "\n",
    "\n",
    "\n",
    "The goal of this project is to predict how popular a song would be, based on its features. Spotify might be interested in popularity prediction to decide which songs to recommend to their users. Moreover, this analysis would help them make data-driven decisions when deciding things like how much to pay for song licenses."
   ]
  },
  {
   "cell_type": "code",
   "execution_count": 1,
   "metadata": {
    "scrolled": false
   },
   "outputs": [
    {
     "data": {
      "text/html": [
       "<div>\n",
       "<style scoped>\n",
       "    .dataframe tbody tr th:only-of-type {\n",
       "        vertical-align: middle;\n",
       "    }\n",
       "\n",
       "    .dataframe tbody tr th {\n",
       "        vertical-align: top;\n",
       "    }\n",
       "\n",
       "    .dataframe thead th {\n",
       "        text-align: right;\n",
       "    }\n",
       "</style>\n",
       "<table border=\"1\" class=\"dataframe\">\n",
       "  <thead>\n",
       "    <tr style=\"text-align: right;\">\n",
       "      <th></th>\n",
       "      <th>genre</th>\n",
       "      <th>artist_name</th>\n",
       "      <th>track_name</th>\n",
       "      <th>track_id</th>\n",
       "      <th>popularity</th>\n",
       "      <th>acousticness</th>\n",
       "      <th>danceability</th>\n",
       "      <th>duration_ms</th>\n",
       "      <th>energy</th>\n",
       "      <th>instrumentalness</th>\n",
       "      <th>key</th>\n",
       "      <th>liveness</th>\n",
       "      <th>loudness</th>\n",
       "      <th>mode</th>\n",
       "      <th>speechiness</th>\n",
       "      <th>tempo</th>\n",
       "      <th>time_signature</th>\n",
       "      <th>valence</th>\n",
       "    </tr>\n",
       "  </thead>\n",
       "  <tbody>\n",
       "    <tr>\n",
       "      <td>0</td>\n",
       "      <td>Movie</td>\n",
       "      <td>Henri Salvador</td>\n",
       "      <td>C'est beau de faire un Show</td>\n",
       "      <td>0BRjO6ga9RKCKjfDqeFgWV</td>\n",
       "      <td>0</td>\n",
       "      <td>0.611</td>\n",
       "      <td>0.389</td>\n",
       "      <td>99373</td>\n",
       "      <td>0.910</td>\n",
       "      <td>0.000</td>\n",
       "      <td>C#</td>\n",
       "      <td>0.3460</td>\n",
       "      <td>-1.828</td>\n",
       "      <td>Major</td>\n",
       "      <td>0.0525</td>\n",
       "      <td>166.969</td>\n",
       "      <td>4/4</td>\n",
       "      <td>0.814</td>\n",
       "    </tr>\n",
       "    <tr>\n",
       "      <td>1</td>\n",
       "      <td>Movie</td>\n",
       "      <td>Martin &amp; les fées</td>\n",
       "      <td>Perdu d'avance (par Gad Elmaleh)</td>\n",
       "      <td>0BjC1NfoEOOusryehmNudP</td>\n",
       "      <td>1</td>\n",
       "      <td>0.246</td>\n",
       "      <td>0.590</td>\n",
       "      <td>137373</td>\n",
       "      <td>0.737</td>\n",
       "      <td>0.000</td>\n",
       "      <td>F#</td>\n",
       "      <td>0.1510</td>\n",
       "      <td>-5.559</td>\n",
       "      <td>Minor</td>\n",
       "      <td>0.0868</td>\n",
       "      <td>174.003</td>\n",
       "      <td>4/4</td>\n",
       "      <td>0.816</td>\n",
       "    </tr>\n",
       "    <tr>\n",
       "      <td>2</td>\n",
       "      <td>Movie</td>\n",
       "      <td>Joseph Williams</td>\n",
       "      <td>Don't Let Me Be Lonely Tonight</td>\n",
       "      <td>0CoSDzoNIKCRs124s9uTVy</td>\n",
       "      <td>3</td>\n",
       "      <td>0.952</td>\n",
       "      <td>0.663</td>\n",
       "      <td>170267</td>\n",
       "      <td>0.131</td>\n",
       "      <td>0.000</td>\n",
       "      <td>C</td>\n",
       "      <td>0.1030</td>\n",
       "      <td>-13.879</td>\n",
       "      <td>Minor</td>\n",
       "      <td>0.0362</td>\n",
       "      <td>99.488</td>\n",
       "      <td>5/4</td>\n",
       "      <td>0.368</td>\n",
       "    </tr>\n",
       "    <tr>\n",
       "      <td>3</td>\n",
       "      <td>Movie</td>\n",
       "      <td>Henri Salvador</td>\n",
       "      <td>Dis-moi Monsieur Gordon Cooper</td>\n",
       "      <td>0Gc6TVm52BwZD07Ki6tIvf</td>\n",
       "      <td>0</td>\n",
       "      <td>0.703</td>\n",
       "      <td>0.240</td>\n",
       "      <td>152427</td>\n",
       "      <td>0.326</td>\n",
       "      <td>0.000</td>\n",
       "      <td>C#</td>\n",
       "      <td>0.0985</td>\n",
       "      <td>-12.178</td>\n",
       "      <td>Major</td>\n",
       "      <td>0.0395</td>\n",
       "      <td>171.758</td>\n",
       "      <td>4/4</td>\n",
       "      <td>0.227</td>\n",
       "    </tr>\n",
       "    <tr>\n",
       "      <td>4</td>\n",
       "      <td>Movie</td>\n",
       "      <td>Fabien Nataf</td>\n",
       "      <td>Ouverture</td>\n",
       "      <td>0IuslXpMROHdEPvSl1fTQK</td>\n",
       "      <td>4</td>\n",
       "      <td>0.950</td>\n",
       "      <td>0.331</td>\n",
       "      <td>82625</td>\n",
       "      <td>0.225</td>\n",
       "      <td>0.123</td>\n",
       "      <td>F</td>\n",
       "      <td>0.2020</td>\n",
       "      <td>-21.150</td>\n",
       "      <td>Major</td>\n",
       "      <td>0.0456</td>\n",
       "      <td>140.576</td>\n",
       "      <td>4/4</td>\n",
       "      <td>0.390</td>\n",
       "    </tr>\n",
       "  </tbody>\n",
       "</table>\n",
       "</div>"
      ],
      "text/plain": [
       "   genre        artist_name                        track_name  \\\n",
       "0  Movie     Henri Salvador       C'est beau de faire un Show   \n",
       "1  Movie  Martin & les fées  Perdu d'avance (par Gad Elmaleh)   \n",
       "2  Movie    Joseph Williams    Don't Let Me Be Lonely Tonight   \n",
       "3  Movie     Henri Salvador    Dis-moi Monsieur Gordon Cooper   \n",
       "4  Movie       Fabien Nataf                         Ouverture   \n",
       "\n",
       "                 track_id  popularity  acousticness  danceability  \\\n",
       "0  0BRjO6ga9RKCKjfDqeFgWV           0         0.611         0.389   \n",
       "1  0BjC1NfoEOOusryehmNudP           1         0.246         0.590   \n",
       "2  0CoSDzoNIKCRs124s9uTVy           3         0.952         0.663   \n",
       "3  0Gc6TVm52BwZD07Ki6tIvf           0         0.703         0.240   \n",
       "4  0IuslXpMROHdEPvSl1fTQK           4         0.950         0.331   \n",
       "\n",
       "   duration_ms  energy  instrumentalness key  liveness  loudness   mode  \\\n",
       "0        99373   0.910             0.000  C#    0.3460    -1.828  Major   \n",
       "1       137373   0.737             0.000  F#    0.1510    -5.559  Minor   \n",
       "2       170267   0.131             0.000   C    0.1030   -13.879  Minor   \n",
       "3       152427   0.326             0.000  C#    0.0985   -12.178  Major   \n",
       "4        82625   0.225             0.123   F    0.2020   -21.150  Major   \n",
       "\n",
       "   speechiness    tempo time_signature  valence  \n",
       "0       0.0525  166.969            4/4    0.814  \n",
       "1       0.0868  174.003            4/4    0.816  \n",
       "2       0.0362   99.488            5/4    0.368  \n",
       "3       0.0395  171.758            4/4    0.227  \n",
       "4       0.0456  140.576            4/4    0.390  "
      ]
     },
     "execution_count": 1,
     "metadata": {},
     "output_type": "execute_result"
    }
   ],
   "source": [
    "import pandas as pd\n",
    "import numpy as np\n",
    "import matplotlib.pyplot as plt \n",
    "import seaborn as sns\n",
    "import sklearn as skl\n",
    "from scipy.stats import norm\n",
    "\n",
    "\n",
    "songs = pd.read_csv('/Users/aliyazhaxylykbayeva/Documents/GitHub/personal-projects/SpotifyFeatures.csv')\n",
    "songs = songs.dropna(thresh=1)\n",
    "songs.head()"
   ]
  },
  {
   "cell_type": "markdown",
   "metadata": {},
   "source": [
    "### Data Exploration and Cleaning\n",
    "I'll do some data exploration and clean the dataset before analyzing it any further to get a better idea of what I'm working with."
   ]
  },
  {
   "cell_type": "code",
   "execution_count": 2,
   "metadata": {},
   "outputs": [
    {
     "data": {
      "text/html": [
       "<div>\n",
       "<style scoped>\n",
       "    .dataframe tbody tr th:only-of-type {\n",
       "        vertical-align: middle;\n",
       "    }\n",
       "\n",
       "    .dataframe tbody tr th {\n",
       "        vertical-align: top;\n",
       "    }\n",
       "\n",
       "    .dataframe thead th {\n",
       "        text-align: right;\n",
       "    }\n",
       "</style>\n",
       "<table border=\"1\" class=\"dataframe\">\n",
       "  <thead>\n",
       "    <tr style=\"text-align: right;\">\n",
       "      <th></th>\n",
       "      <th>artist_name</th>\n",
       "      <th>track_name</th>\n",
       "      <th>track_id</th>\n",
       "      <th>popularity</th>\n",
       "      <th>acousticness</th>\n",
       "      <th>danceability</th>\n",
       "      <th>duration_ms</th>\n",
       "      <th>energy</th>\n",
       "      <th>instrumentalness</th>\n",
       "      <th>key</th>\n",
       "      <th>liveness</th>\n",
       "      <th>loudness</th>\n",
       "      <th>mode</th>\n",
       "      <th>speechiness</th>\n",
       "      <th>tempo</th>\n",
       "      <th>time_signature</th>\n",
       "      <th>valence</th>\n",
       "    </tr>\n",
       "    <tr>\n",
       "      <th>genre</th>\n",
       "      <th></th>\n",
       "      <th></th>\n",
       "      <th></th>\n",
       "      <th></th>\n",
       "      <th></th>\n",
       "      <th></th>\n",
       "      <th></th>\n",
       "      <th></th>\n",
       "      <th></th>\n",
       "      <th></th>\n",
       "      <th></th>\n",
       "      <th></th>\n",
       "      <th></th>\n",
       "      <th></th>\n",
       "      <th></th>\n",
       "      <th></th>\n",
       "      <th></th>\n",
       "    </tr>\n",
       "  </thead>\n",
       "  <tbody>\n",
       "    <tr>\n",
       "      <td>A Capella</td>\n",
       "      <td>119</td>\n",
       "      <td>119</td>\n",
       "      <td>119</td>\n",
       "      <td>119</td>\n",
       "      <td>119</td>\n",
       "      <td>119</td>\n",
       "      <td>119</td>\n",
       "      <td>119</td>\n",
       "      <td>119</td>\n",
       "      <td>119</td>\n",
       "      <td>119</td>\n",
       "      <td>119</td>\n",
       "      <td>119</td>\n",
       "      <td>119</td>\n",
       "      <td>119</td>\n",
       "      <td>119</td>\n",
       "      <td>119</td>\n",
       "    </tr>\n",
       "    <tr>\n",
       "      <td>Alternative</td>\n",
       "      <td>9263</td>\n",
       "      <td>9263</td>\n",
       "      <td>9263</td>\n",
       "      <td>9263</td>\n",
       "      <td>9263</td>\n",
       "      <td>9263</td>\n",
       "      <td>9263</td>\n",
       "      <td>9263</td>\n",
       "      <td>9263</td>\n",
       "      <td>9263</td>\n",
       "      <td>9263</td>\n",
       "      <td>9263</td>\n",
       "      <td>9263</td>\n",
       "      <td>9263</td>\n",
       "      <td>9263</td>\n",
       "      <td>9263</td>\n",
       "      <td>9263</td>\n",
       "    </tr>\n",
       "    <tr>\n",
       "      <td>Anime</td>\n",
       "      <td>8936</td>\n",
       "      <td>8936</td>\n",
       "      <td>8936</td>\n",
       "      <td>8936</td>\n",
       "      <td>8936</td>\n",
       "      <td>8936</td>\n",
       "      <td>8936</td>\n",
       "      <td>8936</td>\n",
       "      <td>8936</td>\n",
       "      <td>8936</td>\n",
       "      <td>8936</td>\n",
       "      <td>8936</td>\n",
       "      <td>8936</td>\n",
       "      <td>8936</td>\n",
       "      <td>8936</td>\n",
       "      <td>8936</td>\n",
       "      <td>8936</td>\n",
       "    </tr>\n",
       "    <tr>\n",
       "      <td>Blues</td>\n",
       "      <td>9023</td>\n",
       "      <td>9023</td>\n",
       "      <td>9023</td>\n",
       "      <td>9023</td>\n",
       "      <td>9023</td>\n",
       "      <td>9023</td>\n",
       "      <td>9023</td>\n",
       "      <td>9023</td>\n",
       "      <td>9023</td>\n",
       "      <td>9023</td>\n",
       "      <td>9023</td>\n",
       "      <td>9023</td>\n",
       "      <td>9023</td>\n",
       "      <td>9023</td>\n",
       "      <td>9023</td>\n",
       "      <td>9023</td>\n",
       "      <td>9023</td>\n",
       "    </tr>\n",
       "    <tr>\n",
       "      <td>Children's Music</td>\n",
       "      <td>5403</td>\n",
       "      <td>5403</td>\n",
       "      <td>5403</td>\n",
       "      <td>5403</td>\n",
       "      <td>5403</td>\n",
       "      <td>5403</td>\n",
       "      <td>5403</td>\n",
       "      <td>5403</td>\n",
       "      <td>5403</td>\n",
       "      <td>5403</td>\n",
       "      <td>5403</td>\n",
       "      <td>5403</td>\n",
       "      <td>5403</td>\n",
       "      <td>5403</td>\n",
       "      <td>5403</td>\n",
       "      <td>5403</td>\n",
       "      <td>5403</td>\n",
       "    </tr>\n",
       "  </tbody>\n",
       "</table>\n",
       "</div>"
      ],
      "text/plain": [
       "                  artist_name  track_name  track_id  popularity  acousticness  \\\n",
       "genre                                                                           \n",
       "A Capella                 119         119       119         119           119   \n",
       "Alternative              9263        9263      9263        9263          9263   \n",
       "Anime                    8936        8936      8936        8936          8936   \n",
       "Blues                    9023        9023      9023        9023          9023   \n",
       "Children's Music         5403        5403      5403        5403          5403   \n",
       "\n",
       "                  danceability  duration_ms  energy  instrumentalness   key  \\\n",
       "genre                                                                         \n",
       "A Capella                  119          119     119               119   119   \n",
       "Alternative               9263         9263    9263              9263  9263   \n",
       "Anime                     8936         8936    8936              8936  8936   \n",
       "Blues                     9023         9023    9023              9023  9023   \n",
       "Children's Music          5403         5403    5403              5403  5403   \n",
       "\n",
       "                  liveness  loudness  mode  speechiness  tempo  \\\n",
       "genre                                                            \n",
       "A Capella              119       119   119          119    119   \n",
       "Alternative           9263      9263  9263         9263   9263   \n",
       "Anime                 8936      8936  8936         8936   8936   \n",
       "Blues                 9023      9023  9023         9023   9023   \n",
       "Children's Music      5403      5403  5403         5403   5403   \n",
       "\n",
       "                  time_signature  valence  \n",
       "genre                                      \n",
       "A Capella                    119      119  \n",
       "Alternative                 9263     9263  \n",
       "Anime                       8936     8936  \n",
       "Blues                       9023     9023  \n",
       "Children's Music            5403     5403  "
      ]
     },
     "execution_count": 2,
     "metadata": {},
     "output_type": "execute_result"
    }
   ],
   "source": [
    "genres = songs.groupby('genre').count()\n",
    "genres.head()"
   ]
  },
  {
   "cell_type": "code",
   "execution_count": 3,
   "metadata": {},
   "outputs": [
    {
     "data": {
      "text/plain": [
       "<matplotlib.axes._subplots.AxesSubplot at 0x7f859ede83d0>"
      ]
     },
     "execution_count": 3,
     "metadata": {},
     "output_type": "execute_result"
    },
    {
     "data": {
      "image/png": "[encoded data removed]",
      "text/plain": [
       "<Figure size 432x288 with 1 Axes>"
      ]
     },
     "metadata": {
      "needs_background": "light"
     },
     "output_type": "display_data"
    }
   ],
   "source": [
    "genres = genres.dropna(thresh=1)\n",
    "genres = genres[['artist_name']]\n",
    "genres = genres.rename(columns={'artist_name':'count'})\n",
    "genres.plot.bar()"
   ]
  },
  {
   "cell_type": "code",
   "execution_count": 4,
   "metadata": {},
   "outputs": [
    {
     "data": {
      "text/plain": [
       "<matplotlib.axes._subplots.AxesSubplot at 0x7f858a32dbd0>"
      ]
     },
     "execution_count": 4,
     "metadata": {},
     "output_type": "execute_result"
    },
    {
     "data": {
      "image/png": "[encoded data removed]",
      "text/plain": [
       "<Figure size 432x288 with 1 Axes>"
      ]
     },
     "metadata": {
      "needs_background": "light"
     },
     "output_type": "display_data"
    }
   ],
   "source": [
    "songs = songs.replace(\"Children’s Music\", \"Children's Music\")\n",
    "genres = songs.groupby('genre').count()\n",
    "genres = genres[['artist_name']]\n",
    "genres = genres.rename(columns={'artist_name':'count'})\n",
    "genres.plot.bar()"
   ]
  },
  {
   "cell_type": "code",
   "execution_count": 20,
   "metadata": {},
   "outputs": [
    {
     "data": {
      "text/plain": [
       "<matplotlib.axes._subplots.AxesSubplot at 0x7f85888bc290>"
      ]
     },
     "execution_count": 20,
     "metadata": {},
     "output_type": "execute_result"
    },
    {
     "data": {
      "image/png": "[encoded data removed]",
      "text/plain": [
       "<Figure size 504x504 with 2 Axes>"
      ]
     },
     "metadata": {
      "needs_background": "light"
     },
     "output_type": "display_data"
    }
   ],
   "source": [
    "x = songs[['popularity','danceability','duration_ms','energy','instrumentalness','loudness','liveness','speechiness','tempo', 'valence']]\n",
    "\n",
    "corr_mat = x.corr()\n",
    "f, ax = plt.subplots(figsize =(7, 7)) \n",
    "sns.heatmap(corr_mat) "
   ]
  },
  {
   "cell_type": "markdown",
   "metadata": {},
   "source": [
    "### Random Forest\n",
    "\n",
    "I'll train the algorithm and fit the model to get a better idea of feature importance when it comes to predicting popularity. \n",
    "\n",
    "#### Edit: \n",
    "As I was doing this part and ran two random forests and CV Grid Search, I realized that the most logical approach was to analyze this dataset splitting it up by genre. People who are into Electronic Dance Music probably care about danceability the most, while people who are into classical music put more importance on instrumentalness."
   ]
  },
  {
   "cell_type": "code",
   "execution_count": 6,
   "metadata": {},
   "outputs": [],
   "source": [
    "y = songs['popularity']\n",
    "x = songs[['danceability','duration_ms','energy','instrumentalness','loudness','liveness','speechiness','tempo', 'valence']]"
   ]
  },
  {
   "cell_type": "code",
   "execution_count": 7,
   "metadata": {},
   "outputs": [
    {
     "data": {
      "text/plain": [
       "RandomForestRegressor(bootstrap=True, criterion='mse', max_depth=10,\n",
       "                      max_features='auto', max_leaf_nodes=None,\n",
       "                      min_impurity_decrease=0.0, min_impurity_split=None,\n",
       "                      min_samples_leaf=1, min_samples_split=2,\n",
       "                      min_weight_fraction_leaf=0.0, n_estimators=200, n_jobs=-1,\n",
       "                      oob_score=False, random_state=0, verbose=0,\n",
       "                      warm_start=False)"
      ]
     },
     "execution_count": 7,
     "metadata": {},
     "output_type": "execute_result"
    }
   ],
   "source": [
    "from sklearn.model_selection import train_test_split\n",
    "from sklearn.ensemble import RandomForestRegressor\n",
    "\n",
    "x_train, x_test, y_train, y_test = train_test_split(x, y, test_size=0.2, random_state=1)\n",
    "randomforest = RandomForestRegressor(max_depth=10, random_state=0, n_estimators=200, n_jobs=-1)\n",
    "randomforest.fit(x_train, y_train)"
   ]
  },
  {
   "cell_type": "code",
   "execution_count": 8,
   "metadata": {},
   "outputs": [],
   "source": [
    "yhat_test=randomforest.predict(x_test)\n",
    "res_hat = yhat_test-y_test\n",
    "rmse1=np.sqrt(sum(res_hat**2)/len(yhat_test))"
   ]
  },
  {
   "cell_type": "markdown",
   "metadata": {},
   "source": [
    "Root mean squared error is 14.6878, which, in my opinion, is very good given that we only analyzed the song by its quantitative features."
   ]
  },
  {
   "cell_type": "code",
   "execution_count": 9,
   "metadata": {},
   "outputs": [
    {
     "data": {
      "text/plain": [
       "count    232725.000000\n",
       "mean         41.127502\n",
       "std          18.189948\n",
       "min           0.000000\n",
       "25%          29.000000\n",
       "50%          43.000000\n",
       "75%          55.000000\n",
       "max         100.000000\n",
       "Name: popularity, dtype: float64"
      ]
     },
     "execution_count": 9,
     "metadata": {},
     "output_type": "execute_result"
    }
   ],
   "source": [
    "y.describe()"
   ]
  },
  {
   "cell_type": "code",
   "execution_count": 10,
   "metadata": {},
   "outputs": [
    {
     "data": {
      "text/plain": [
       "array([0.08605371, 0.14773983, 0.04394396, 0.06909831, 0.41146275,\n",
       "       0.02926962, 0.13991246, 0.01253369, 0.05998568])"
      ]
     },
     "execution_count": 10,
     "metadata": {},
     "output_type": "execute_result"
    }
   ],
   "source": [
    "randomforest.feature_importances_"
   ]
  },
  {
   "cell_type": "markdown",
   "metadata": {},
   "source": [
    "Based on feature importance, I'll engineer new features that will allow for a more accurate prediction. In this case, duration, loudness, and speechiness are the most important."
   ]
  },
  {
   "cell_type": "code",
   "execution_count": 11,
   "metadata": {},
   "outputs": [],
   "source": [
    "x = x.assign(loudness_duration=(x['loudness']*x['duration_ms']))\n",
    "x = x.assign(loudness_speechiness=(x['loudness']*x['speechiness']))\n",
    "x = x.assign(speechiness_duration=(x['speechiness']*x['duration_ms']))"
   ]
  },
  {
   "cell_type": "code",
   "execution_count": 12,
   "metadata": {},
   "outputs": [
    {
     "data": {
      "text/plain": [
       "RandomForestRegressor(bootstrap=True, criterion='mse', max_depth=10,\n",
       "                      max_features='auto', max_leaf_nodes=None,\n",
       "                      min_impurity_decrease=0.0, min_impurity_split=None,\n",
       "                      min_samples_leaf=1, min_samples_split=2,\n",
       "                      min_weight_fraction_leaf=0.0, n_estimators=200, n_jobs=-1,\n",
       "                      oob_score=False, random_state=0, verbose=0,\n",
       "                      warm_start=False)"
      ]
     },
     "execution_count": 12,
     "metadata": {},
     "output_type": "execute_result"
    }
   ],
   "source": [
    "x_train, x_test, y_train, y_test = train_test_split(x, y, test_size=0.2, random_state=1)\n",
    "randomforest2 = RandomForestRegressor(max_depth=10, random_state=0, n_estimators=200, n_jobs=-1)\n",
    "randomforest2.fit(x_train, y_train)"
   ]
  },
  {
   "cell_type": "code",
   "execution_count": 13,
   "metadata": {},
   "outputs": [],
   "source": [
    "yhat_test=randomforest2.predict(x_test)\n",
    "res_hat = yhat_test-y_test\n",
    "rootmeansq=np.sqrt(sum(res_hat**2)/len(yhat_test))"
   ]
  },
  {
   "cell_type": "markdown",
   "metadata": {},
   "source": [
    "### Analyzing popularity patterns by genre\n",
    "\n",
    "I could see from running 2 random forests that accuracy of the predictions was not getting significantly better with the engineered features, so I decided to analyze each genre on its own."
   ]
  },
  {
   "cell_type": "code",
   "execution_count": 14,
   "metadata": {},
   "outputs": [],
   "source": [
    "genre=np.unique(songs['genre'])\n",
    "rmse2=[]\n",
    "for i in genre:\n",
    "    temp=songs[songs.genre == i]\n",
    "    y = temp['popularity']\n",
    "    x = temp[['danceability','duration_ms','energy','instrumentalness','loudness','liveness','speechiness','tempo', 'valence']]\n",
    "    x_train, x_test, y_train, y_test = train_test_split(x, y, test_size=0.2, random_state=1)\n",
    "    randomforest = RandomForestRegressor(max_depth=10, random_state=0, n_estimators=200, n_jobs=-1)\n",
    "    randomforest.fit(x_train, y_train)\n",
    "    yhat_test=randomforest.predict(x_test)\n",
    "    res_hat = yhat_test-y_test\n",
    "    rmse2.append((round(np.sqrt(sum(res_hat**2)/len(yhat_test)),3)))"
   ]
  },
  {
   "cell_type": "code",
   "execution_count": 15,
   "metadata": {},
   "outputs": [],
   "source": [
    "genre=genre.tolist()"
   ]
  },
  {
   "cell_type": "code",
   "execution_count": 16,
   "metadata": {},
   "outputs": [
    {
     "data": {
      "text/plain": [
       "<matplotlib.axes._subplots.AxesSubplot at 0x7f858d73ef10>"
      ]
     },
     "execution_count": 16,
     "metadata": {},
     "output_type": "execute_result"
    },
    {
     "data": {
      "image/png": "[encoded data removed]",
      "text/plain": [
       "<Figure size 720x1080 with 1 Axes>"
      ]
     },
     "metadata": {
      "needs_background": "light"
     },
     "output_type": "display_data"
    }
   ],
   "source": [
    "genre.append(\"Overall\")\n",
    "rmse2.append(rmse1)\n",
    "import seaborn\n",
    "import matplotlib\n",
    "\n",
    "plt.figure(figsize=(10, 15))\n",
    "seaborn.barplot(x=rmse2,y=genre)"
   ]
  },
  {
   "cell_type": "markdown",
   "metadata": {},
   "source": [
    "Even with less data in each training set, when analyzing by genre, the testing error (RMSE) was lower than the overall error for every single genre. While some genres like Children's Music or Reggaeton are harder to predict with high accuracy, this experiment has proven that it is very important to take descriptive features like genre into account.\n",
    "\n",
    "Now, I'd like to ask another interesting question - what is the effect of each song characteristic on its popularity on average. To perform that analysis, I'll use linear regression."
   ]
  },
  {
   "cell_type": "code",
   "execution_count": 27,
   "metadata": {},
   "outputs": [
    {
     "name": "stderr",
     "output_type": "stream",
     "text": [
      "/opt/anaconda3/lib/python3.7/site-packages/ipykernel_launcher.py:5: SettingWithCopyWarning: \n",
      "A value is trying to be set on a copy of a slice from a DataFrame.\n",
      "Try using .loc[row_indexer,col_indexer] = value instead\n",
      "\n",
      "See the caveats in the documentation: http://pandas.pydata.org/pandas-docs/stable/user_guide/indexing.html#returning-a-view-versus-a-copy\n",
      "  \"\"\"\n",
      "/opt/anaconda3/lib/python3.7/site-packages/ipykernel_launcher.py:7: SettingWithCopyWarning: \n",
      "A value is trying to be set on a copy of a slice from a DataFrame.\n",
      "Try using .loc[row_indexer,col_indexer] = value instead\n",
      "\n",
      "See the caveats in the documentation: http://pandas.pydata.org/pandas-docs/stable/user_guide/indexing.html#returning-a-view-versus-a-copy\n",
      "  import sys\n"
     ]
    },
    {
     "data": {
      "text/html": [
       "<table class=\"simpletable\">\n",
       "<caption>OLS Regression Results</caption>\n",
       "<tr>\n",
       "  <th>Dep. Variable:</th>       <td>popularity</td>    <th>  R-squared:         </th>  <td>   0.156</td>  \n",
       "</tr>\n",
       "<tr>\n",
       "  <th>Model:</th>                   <td>OLS</td>       <th>  Adj. R-squared:    </th>  <td>   0.156</td>  \n",
       "</tr>\n",
       "<tr>\n",
       "  <th>Method:</th>             <td>Least Squares</td>  <th>  F-statistic:       </th>  <td>   4797.</td>  \n",
       "</tr>\n",
       "<tr>\n",
       "  <th>Date:</th>             <td>Tue, 18 May 2021</td> <th>  Prob (F-statistic):</th>   <td>  0.00</td>   \n",
       "</tr>\n",
       "<tr>\n",
       "  <th>Time:</th>                 <td>22:17:17</td>     <th>  Log-Likelihood:    </th> <td>-9.8552e+05</td>\n",
       "</tr>\n",
       "<tr>\n",
       "  <th>No. Observations:</th>      <td>232725</td>      <th>  AIC:               </th>  <td>1.971e+06</td> \n",
       "</tr>\n",
       "<tr>\n",
       "  <th>Df Residuals:</th>          <td>232715</td>      <th>  BIC:               </th>  <td>1.971e+06</td> \n",
       "</tr>\n",
       "<tr>\n",
       "  <th>Df Model:</th>              <td>     9</td>      <th>                     </th>      <td> </td>     \n",
       "</tr>\n",
       "<tr>\n",
       "  <th>Covariance Type:</th>      <td>nonrobust</td>    <th>                     </th>      <td> </td>     \n",
       "</tr>\n",
       "</table>\n",
       "<table class=\"simpletable\">\n",
       "<tr>\n",
       "          <td></td>            <th>coef</th>     <th>std err</th>      <th>t</th>      <th>P>|t|</th>  <th>[0.025</th>    <th>0.975]</th>  \n",
       "</tr>\n",
       "<tr>\n",
       "  <th>danceability</th>     <td>   39.1615</td> <td>    0.208</td> <td>  188.261</td> <td> 0.000</td> <td>   38.754</td> <td>   39.569</td>\n",
       "</tr>\n",
       "<tr>\n",
       "  <th>energy</th>           <td>   24.8893</td> <td>    0.200</td> <td>  124.239</td> <td> 0.000</td> <td>   24.497</td> <td>   25.282</td>\n",
       "</tr>\n",
       "<tr>\n",
       "  <th>instrumentalness</th> <td>   -5.5279</td> <td>    0.139</td> <td>  -39.674</td> <td> 0.000</td> <td>   -5.801</td> <td>   -5.255</td>\n",
       "</tr>\n",
       "<tr>\n",
       "  <th>loudness</th>         <td>   -0.3528</td> <td>    0.008</td> <td>  -44.586</td> <td> 0.000</td> <td>   -0.368</td> <td>   -0.337</td>\n",
       "</tr>\n",
       "<tr>\n",
       "  <th>liveness</th>         <td>   -9.1109</td> <td>    0.209</td> <td>  -43.555</td> <td> 0.000</td> <td>   -9.521</td> <td>   -8.701</td>\n",
       "</tr>\n",
       "<tr>\n",
       "  <th>speechiness</th>      <td>  -17.9511</td> <td>    0.228</td> <td>  -78.901</td> <td> 0.000</td> <td>  -18.397</td> <td>  -17.505</td>\n",
       "</tr>\n",
       "<tr>\n",
       "  <th>tempo</th>            <td>    0.0694</td> <td>    0.001</td> <td>   66.325</td> <td> 0.000</td> <td>    0.067</td> <td>    0.071</td>\n",
       "</tr>\n",
       "<tr>\n",
       "  <th>valence</th>          <td>  -17.0675</td> <td>    0.172</td> <td>  -99.158</td> <td> 0.000</td> <td>  -17.405</td> <td>  -16.730</td>\n",
       "</tr>\n",
       "<tr>\n",
       "  <th>duration</th>         <td>    1.6708</td> <td>    0.025</td> <td>   66.032</td> <td> 0.000</td> <td>    1.621</td> <td>    1.720</td>\n",
       "</tr>\n",
       "<tr>\n",
       "  <th>duration_sq</th>      <td>   -0.0330</td> <td>    0.001</td> <td>  -47.087</td> <td> 0.000</td> <td>   -0.034</td> <td>   -0.032</td>\n",
       "</tr>\n",
       "</table>\n",
       "<table class=\"simpletable\">\n",
       "<tr>\n",
       "  <th>Omnibus:</th>       <td>3409.651</td> <th>  Durbin-Watson:     </th> <td>   0.498</td>\n",
       "</tr>\n",
       "<tr>\n",
       "  <th>Prob(Omnibus):</th>  <td> 0.000</td>  <th>  Jarque-Bera (JB):  </th> <td>3556.528</td>\n",
       "</tr>\n",
       "<tr>\n",
       "  <th>Skew:</th>           <td>-0.301</td>  <th>  Prob(JB):          </th> <td>    0.00</td>\n",
       "</tr>\n",
       "<tr>\n",
       "  <th>Kurtosis:</th>       <td> 2.940</td>  <th>  Cond. No.          </th> <td>    986.</td>\n",
       "</tr>\n",
       "</table><br/><br/>Warnings:<br/>[1] Standard Errors assume that the covariance matrix of the errors is correctly specified."
      ],
      "text/plain": [
       "<class 'statsmodels.iolib.summary.Summary'>\n",
       "\"\"\"\n",
       "                            OLS Regression Results                            \n",
       "==============================================================================\n",
       "Dep. Variable:             popularity   R-squared:                       0.156\n",
       "Model:                            OLS   Adj. R-squared:                  0.156\n",
       "Method:                 Least Squares   F-statistic:                     4797.\n",
       "Date:                Tue, 18 May 2021   Prob (F-statistic):               0.00\n",
       "Time:                        22:17:17   Log-Likelihood:            -9.8552e+05\n",
       "No. Observations:              232725   AIC:                         1.971e+06\n",
       "Df Residuals:                  232715   BIC:                         1.971e+06\n",
       "Df Model:                           9                                         \n",
       "Covariance Type:            nonrobust                                         \n",
       "====================================================================================\n",
       "                       coef    std err          t      P>|t|      [0.025      0.975]\n",
       "------------------------------------------------------------------------------------\n",
       "danceability        39.1615      0.208    188.261      0.000      38.754      39.569\n",
       "energy              24.8893      0.200    124.239      0.000      24.497      25.282\n",
       "instrumentalness    -5.5279      0.139    -39.674      0.000      -5.801      -5.255\n",
       "loudness            -0.3528      0.008    -44.586      0.000      -0.368      -0.337\n",
       "liveness            -9.1109      0.209    -43.555      0.000      -9.521      -8.701\n",
       "speechiness        -17.9511      0.228    -78.901      0.000     -18.397     -17.505\n",
       "tempo                0.0694      0.001     66.325      0.000       0.067       0.071\n",
       "valence            -17.0675      0.172    -99.158      0.000     -17.405     -16.730\n",
       "duration             1.6708      0.025     66.032      0.000       1.621       1.720\n",
       "duration_sq         -0.0330      0.001    -47.087      0.000      -0.034      -0.032\n",
       "==============================================================================\n",
       "Omnibus:                     3409.651   Durbin-Watson:                   0.498\n",
       "Prob(Omnibus):                  0.000   Jarque-Bera (JB):             3556.528\n",
       "Skew:                          -0.301   Prob(JB):                         0.00\n",
       "Kurtosis:                       2.940   Cond. No.                         986.\n",
       "==============================================================================\n",
       "\n",
       "Warnings:\n",
       "[1] Standard Errors assume that the covariance matrix of the errors is correctly specified.\n",
       "\"\"\""
      ]
     },
     "execution_count": 27,
     "metadata": {},
     "output_type": "execute_result"
    }
   ],
   "source": [
    "import statsmodels.api as sm\n",
    "\n",
    "# Add important features\n",
    "x=songs[['danceability','duration_ms','energy','instrumentalness','loudness','liveness','speechiness','tempo', 'valence']]\n",
    "x['duration']=x['duration_ms'].div(60000)\n",
    "# Popularity is likely nonlinear in duration, so I added a column with squared values of duration.\n",
    "x['duration_sq']= np.square(x['duration'])\n",
    "x=x.drop(axis=1,columns='duration_ms')\n",
    "\n",
    "y=songs['popularity']\n",
    "\n",
    "# Train and fit linear regression\n",
    "lm=sm.OLS(exog=x, endog=y, hasconst=True)\n",
    "lm_res = lm.fit()\n",
    "lm_res.summary()"
   ]
  },
  {
   "cell_type": "markdown",
   "metadata": {},
   "source": [
    "## Conclusion\n",
    "\n",
    "From linear regression analysis I performed above estimates that danceability had the largest per unit effect on popularity, followed by energy. Speechiness and valence, on the other hand, had the biggest negative effect on popularity.\n",
    "\n",
    "Longer songs are more popular, but there's a diminishing return, indicated by the negative quadratic term (duration_sq)."
   ]
  }
 ],
 "metadata": {
  "kernelspec": {
   "display_name": "Python 3",
   "language": "python",
   "name": "python3"
  },
  "language_info": {
   "codemirror_mode": {
    "name": "ipython",
    "version": 3
   },
   "file_extension": ".py",
   "mimetype": "text/x-python",
   "name": "python",
   "nbconvert_exporter": "python",
   "pygments_lexer": "ipython3",
   "version": "3.7.4"
  }
 },
 "nbformat": 4,
 "nbformat_minor": 2
}
